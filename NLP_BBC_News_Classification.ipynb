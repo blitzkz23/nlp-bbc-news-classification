{
  "nbformat": 4,
  "nbformat_minor": 0,
  "metadata": {
    "colab": {
      "name": "NLP - BBC News Classification.ipynb",
      "provenance": [],
      "collapsed_sections": []
    },
    "kernelspec": {
      "name": "python3",
      "display_name": "Python 3"
    },
    "language_info": {
      "name": "python"
    }
  },
  "cells": [
    {
      "cell_type": "markdown",
      "source": [
        "# Read Datasets and EDA"
      ],
      "metadata": {
        "id": "9oVxZolb5bxa"
      }
    },
    {
      "cell_type": "code",
      "source": [
        "import pandas as pd\n",
        "\n",
        "# Read datasets\n",
        "df = pd.read_csv('bbc-news-data.csv', sep='\\t')\n",
        "df.sample(10)"
      ],
      "metadata": {
        "colab": {
          "base_uri": "https://localhost:8080/",
          "height": 362
        },
        "id": "P60SKAxy5bbp",
        "outputId": "f5a2048a-138b-4725-f361-0631860ba02a"
      },
      "execution_count": 10,
      "outputs": [
        {
          "output_type": "execute_result",
          "data": {
            "text/html": [
              "\n",
              "  <div id=\"df-20d282e5-e3bc-444e-92d6-519c2e1e32b0\">\n",
              "    <div class=\"colab-df-container\">\n",
              "      <div>\n",
              "<style scoped>\n",
              "    .dataframe tbody tr th:only-of-type {\n",
              "        vertical-align: middle;\n",
              "    }\n",
              "\n",
              "    .dataframe tbody tr th {\n",
              "        vertical-align: top;\n",
              "    }\n",
              "\n",
              "    .dataframe thead th {\n",
              "        text-align: right;\n",
              "    }\n",
              "</style>\n",
              "<table border=\"1\" class=\"dataframe\">\n",
              "  <thead>\n",
              "    <tr style=\"text-align: right;\">\n",
              "      <th></th>\n",
              "      <th>category</th>\n",
              "      <th>filename</th>\n",
              "      <th>title</th>\n",
              "      <th>content</th>\n",
              "    </tr>\n",
              "  </thead>\n",
              "  <tbody>\n",
              "    <tr>\n",
              "      <th>1295</th>\n",
              "      <td>politics</td>\n",
              "      <td>400.txt</td>\n",
              "      <td>Ex-PM Lord Callaghan dies aged 92</td>\n",
              "      <td>Former Labour prime minister Lord Callaghan h...</td>\n",
              "    </tr>\n",
              "    <tr>\n",
              "      <th>824</th>\n",
              "      <td>entertainment</td>\n",
              "      <td>315.txt</td>\n",
              "      <td>Hoffman hits out over modern film</td>\n",
              "      <td>Hollywood legend Dustin Hoffman has hit out a...</td>\n",
              "    </tr>\n",
              "    <tr>\n",
              "      <th>1030</th>\n",
              "      <td>politics</td>\n",
              "      <td>135.txt</td>\n",
              "      <td>Blair says UK tsunami aid to soar</td>\n",
              "      <td>Tony Blair has predicted the British Governme...</td>\n",
              "    </tr>\n",
              "    <tr>\n",
              "      <th>1905</th>\n",
              "      <td>tech</td>\n",
              "      <td>082.txt</td>\n",
              "      <td>Games firms 'face tough future'</td>\n",
              "      <td>UK video game firms face a testing time as th...</td>\n",
              "    </tr>\n",
              "    <tr>\n",
              "      <th>969</th>\n",
              "      <td>politics</td>\n",
              "      <td>074.txt</td>\n",
              "      <td>BNP leader Nick Griffin arrested</td>\n",
              "      <td>The leader of the British National Party has ...</td>\n",
              "    </tr>\n",
              "    <tr>\n",
              "      <th>1175</th>\n",
              "      <td>politics</td>\n",
              "      <td>280.txt</td>\n",
              "      <td>Blair sees greater Bush consensus</td>\n",
              "      <td>George W Bush will display a more consensual ...</td>\n",
              "    </tr>\n",
              "    <tr>\n",
              "      <th>740</th>\n",
              "      <td>entertainment</td>\n",
              "      <td>231.txt</td>\n",
              "      <td>Three DJs replace Peel radio show</td>\n",
              "      <td>The late John Peel's BBC Radio 1 show is to b...</td>\n",
              "    </tr>\n",
              "    <tr>\n",
              "      <th>819</th>\n",
              "      <td>entertainment</td>\n",
              "      <td>310.txt</td>\n",
              "      <td>BBC denies Blackadder TV comeback</td>\n",
              "      <td>The BBC has said there are no plans in the pi...</td>\n",
              "    </tr>\n",
              "    <tr>\n",
              "      <th>181</th>\n",
              "      <td>business</td>\n",
              "      <td>182.txt</td>\n",
              "      <td>Weak data buffets French economy</td>\n",
              "      <td>A batch of downbeat government data has cast ...</td>\n",
              "    </tr>\n",
              "    <tr>\n",
              "      <th>18</th>\n",
              "      <td>business</td>\n",
              "      <td>019.txt</td>\n",
              "      <td>India widens access to telecoms</td>\n",
              "      <td>India has raised the limit for foreign direct...</td>\n",
              "    </tr>\n",
              "  </tbody>\n",
              "</table>\n",
              "</div>\n",
              "      <button class=\"colab-df-convert\" onclick=\"convertToInteractive('df-20d282e5-e3bc-444e-92d6-519c2e1e32b0')\"\n",
              "              title=\"Convert this dataframe to an interactive table.\"\n",
              "              style=\"display:none;\">\n",
              "        \n",
              "  <svg xmlns=\"http://www.w3.org/2000/svg\" height=\"24px\"viewBox=\"0 0 24 24\"\n",
              "       width=\"24px\">\n",
              "    <path d=\"M0 0h24v24H0V0z\" fill=\"none\"/>\n",
              "    <path d=\"M18.56 5.44l.94 2.06.94-2.06 2.06-.94-2.06-.94-.94-2.06-.94 2.06-2.06.94zm-11 1L8.5 8.5l.94-2.06 2.06-.94-2.06-.94L8.5 2.5l-.94 2.06-2.06.94zm10 10l.94 2.06.94-2.06 2.06-.94-2.06-.94-.94-2.06-.94 2.06-2.06.94z\"/><path d=\"M17.41 7.96l-1.37-1.37c-.4-.4-.92-.59-1.43-.59-.52 0-1.04.2-1.43.59L10.3 9.45l-7.72 7.72c-.78.78-.78 2.05 0 2.83L4 21.41c.39.39.9.59 1.41.59.51 0 1.02-.2 1.41-.59l7.78-7.78 2.81-2.81c.8-.78.8-2.07 0-2.86zM5.41 20L4 18.59l7.72-7.72 1.47 1.35L5.41 20z\"/>\n",
              "  </svg>\n",
              "      </button>\n",
              "      \n",
              "  <style>\n",
              "    .colab-df-container {\n",
              "      display:flex;\n",
              "      flex-wrap:wrap;\n",
              "      gap: 12px;\n",
              "    }\n",
              "\n",
              "    .colab-df-convert {\n",
              "      background-color: #E8F0FE;\n",
              "      border: none;\n",
              "      border-radius: 50%;\n",
              "      cursor: pointer;\n",
              "      display: none;\n",
              "      fill: #1967D2;\n",
              "      height: 32px;\n",
              "      padding: 0 0 0 0;\n",
              "      width: 32px;\n",
              "    }\n",
              "\n",
              "    .colab-df-convert:hover {\n",
              "      background-color: #E2EBFA;\n",
              "      box-shadow: 0px 1px 2px rgba(60, 64, 67, 0.3), 0px 1px 3px 1px rgba(60, 64, 67, 0.15);\n",
              "      fill: #174EA6;\n",
              "    }\n",
              "\n",
              "    [theme=dark] .colab-df-convert {\n",
              "      background-color: #3B4455;\n",
              "      fill: #D2E3FC;\n",
              "    }\n",
              "\n",
              "    [theme=dark] .colab-df-convert:hover {\n",
              "      background-color: #434B5C;\n",
              "      box-shadow: 0px 1px 3px 1px rgba(0, 0, 0, 0.15);\n",
              "      filter: drop-shadow(0px 1px 2px rgba(0, 0, 0, 0.3));\n",
              "      fill: #FFFFFF;\n",
              "    }\n",
              "  </style>\n",
              "\n",
              "      <script>\n",
              "        const buttonEl =\n",
              "          document.querySelector('#df-20d282e5-e3bc-444e-92d6-519c2e1e32b0 button.colab-df-convert');\n",
              "        buttonEl.style.display =\n",
              "          google.colab.kernel.accessAllowed ? 'block' : 'none';\n",
              "\n",
              "        async function convertToInteractive(key) {\n",
              "          const element = document.querySelector('#df-20d282e5-e3bc-444e-92d6-519c2e1e32b0');\n",
              "          const dataTable =\n",
              "            await google.colab.kernel.invokeFunction('convertToInteractive',\n",
              "                                                     [key], {});\n",
              "          if (!dataTable) return;\n",
              "\n",
              "          const docLinkHtml = 'Like what you see? Visit the ' +\n",
              "            '<a target=\"_blank\" href=https://colab.research.google.com/notebooks/data_table.ipynb>data table notebook</a>'\n",
              "            + ' to learn more about interactive tables.';\n",
              "          element.innerHTML = '';\n",
              "          dataTable['output_type'] = 'display_data';\n",
              "          await google.colab.output.renderOutput(dataTable, element);\n",
              "          const docLink = document.createElement('div');\n",
              "          docLink.innerHTML = docLinkHtml;\n",
              "          element.appendChild(docLink);\n",
              "        }\n",
              "      </script>\n",
              "    </div>\n",
              "  </div>\n",
              "  "
            ],
            "text/plain": [
              "           category  ...                                            content\n",
              "1295       politics  ...   Former Labour prime minister Lord Callaghan h...\n",
              "824   entertainment  ...   Hollywood legend Dustin Hoffman has hit out a...\n",
              "1030       politics  ...   Tony Blair has predicted the British Governme...\n",
              "1905           tech  ...   UK video game firms face a testing time as th...\n",
              "969        politics  ...   The leader of the British National Party has ...\n",
              "1175       politics  ...   George W Bush will display a more consensual ...\n",
              "740   entertainment  ...   The late John Peel's BBC Radio 1 show is to b...\n",
              "819   entertainment  ...   The BBC has said there are no plans in the pi...\n",
              "181        business  ...   A batch of downbeat government data has cast ...\n",
              "18         business  ...   India has raised the limit for foreign direct...\n",
              "\n",
              "[10 rows x 4 columns]"
            ]
          },
          "metadata": {},
          "execution_count": 10
        }
      ]
    },
    {
      "cell_type": "code",
      "source": [
        "# Check data shape\n",
        "df.shape"
      ],
      "metadata": {
        "colab": {
          "base_uri": "https://localhost:8080/"
        },
        "id": "RnTa4dFJ9lJJ",
        "outputId": "995ef3f6-f2f7-45c1-f763-f492bb08cbc8"
      },
      "execution_count": 11,
      "outputs": [
        {
          "output_type": "execute_result",
          "data": {
            "text/plain": [
              "(2225, 4)"
            ]
          },
          "metadata": {},
          "execution_count": 11
        }
      ]
    },
    {
      "cell_type": "code",
      "source": [
        "# Check null data\n",
        "df.info()"
      ],
      "metadata": {
        "colab": {
          "base_uri": "https://localhost:8080/"
        },
        "id": "6GzwF89u5sJf",
        "outputId": "d0ea2707-0cd1-4ada-97b3-e2d8bb084130"
      },
      "execution_count": 12,
      "outputs": [
        {
          "output_type": "stream",
          "name": "stdout",
          "text": [
            "<class 'pandas.core.frame.DataFrame'>\n",
            "RangeIndex: 2225 entries, 0 to 2224\n",
            "Data columns (total 4 columns):\n",
            " #   Column    Non-Null Count  Dtype \n",
            "---  ------    --------------  ----- \n",
            " 0   category  2225 non-null   object\n",
            " 1   filename  2225 non-null   object\n",
            " 2   title     2225 non-null   object\n",
            " 3   content   2225 non-null   object\n",
            "dtypes: object(4)\n",
            "memory usage: 69.7+ KB\n"
          ]
        }
      ]
    },
    {
      "cell_type": "code",
      "source": [
        "# Check duplicated data\n",
        "df.duplicated().sum()"
      ],
      "metadata": {
        "colab": {
          "base_uri": "https://localhost:8080/"
        },
        "id": "Ffkg3G6W7JOv",
        "outputId": "332e4e82-b3d4-41d9-a36c-cc9c7f870e05"
      },
      "execution_count": 13,
      "outputs": [
        {
          "output_type": "execute_result",
          "data": {
            "text/plain": [
              "0"
            ]
          },
          "metadata": {},
          "execution_count": 13
        }
      ]
    },
    {
      "cell_type": "code",
      "source": [
        "# Remove duplicated data\n",
        "df = df[~df.duplicated()]\n",
        "df.info()"
      ],
      "metadata": {
        "colab": {
          "base_uri": "https://localhost:8080/"
        },
        "id": "ALKJw7oZ7SSh",
        "outputId": "ddf8fb52-4c5a-4835-90f6-689916a852f9"
      },
      "execution_count": 14,
      "outputs": [
        {
          "output_type": "stream",
          "name": "stdout",
          "text": [
            "<class 'pandas.core.frame.DataFrame'>\n",
            "Int64Index: 2225 entries, 0 to 2224\n",
            "Data columns (total 4 columns):\n",
            " #   Column    Non-Null Count  Dtype \n",
            "---  ------    --------------  ----- \n",
            " 0   category  2225 non-null   object\n",
            " 1   filename  2225 non-null   object\n",
            " 2   title     2225 non-null   object\n",
            " 3   content   2225 non-null   object\n",
            "dtypes: object(4)\n",
            "memory usage: 86.9+ KB\n"
          ]
        }
      ]
    },
    {
      "cell_type": "code",
      "source": [
        "# Check counts of each category whether data are balanced\n",
        "df.category.value_counts()"
      ],
      "metadata": {
        "colab": {
          "base_uri": "https://localhost:8080/"
        },
        "id": "Gr0Yof5M7bJ5",
        "outputId": "4e72bcec-bfc8-420a-8fbe-6acd4b7e93c8"
      },
      "execution_count": 15,
      "outputs": [
        {
          "output_type": "execute_result",
          "data": {
            "text/plain": [
              "sport            511\n",
              "business         510\n",
              "politics         417\n",
              "tech             401\n",
              "entertainment    386\n",
              "Name: category, dtype: int64"
            ]
          },
          "metadata": {},
          "execution_count": 15
        }
      ]
    },
    {
      "cell_type": "code",
      "source": [
        "# Drop title and filename columns\n",
        "df = df.drop(columns=['filename', 'title'])\n",
        "df"
      ],
      "metadata": {
        "colab": {
          "base_uri": "https://localhost:8080/",
          "height": 424
        },
        "id": "DVdtO2Zmmiuy",
        "outputId": "08d296df-ee2b-4fb8-bf0d-e71ef01e15af"
      },
      "execution_count": 16,
      "outputs": [
        {
          "output_type": "execute_result",
          "data": {
            "text/html": [
              "\n",
              "  <div id=\"df-8b32a338-9a89-4fd5-963b-c0a4d4bd7a93\">\n",
              "    <div class=\"colab-df-container\">\n",
              "      <div>\n",
              "<style scoped>\n",
              "    .dataframe tbody tr th:only-of-type {\n",
              "        vertical-align: middle;\n",
              "    }\n",
              "\n",
              "    .dataframe tbody tr th {\n",
              "        vertical-align: top;\n",
              "    }\n",
              "\n",
              "    .dataframe thead th {\n",
              "        text-align: right;\n",
              "    }\n",
              "</style>\n",
              "<table border=\"1\" class=\"dataframe\">\n",
              "  <thead>\n",
              "    <tr style=\"text-align: right;\">\n",
              "      <th></th>\n",
              "      <th>category</th>\n",
              "      <th>content</th>\n",
              "    </tr>\n",
              "  </thead>\n",
              "  <tbody>\n",
              "    <tr>\n",
              "      <th>0</th>\n",
              "      <td>business</td>\n",
              "      <td>Quarterly profits at US media giant TimeWarne...</td>\n",
              "    </tr>\n",
              "    <tr>\n",
              "      <th>1</th>\n",
              "      <td>business</td>\n",
              "      <td>The dollar has hit its highest level against ...</td>\n",
              "    </tr>\n",
              "    <tr>\n",
              "      <th>2</th>\n",
              "      <td>business</td>\n",
              "      <td>The owners of embattled Russian oil giant Yuk...</td>\n",
              "    </tr>\n",
              "    <tr>\n",
              "      <th>3</th>\n",
              "      <td>business</td>\n",
              "      <td>British Airways has blamed high fuel prices f...</td>\n",
              "    </tr>\n",
              "    <tr>\n",
              "      <th>4</th>\n",
              "      <td>business</td>\n",
              "      <td>Shares in UK drinks and food firm Allied Dome...</td>\n",
              "    </tr>\n",
              "    <tr>\n",
              "      <th>...</th>\n",
              "      <td>...</td>\n",
              "      <td>...</td>\n",
              "    </tr>\n",
              "    <tr>\n",
              "      <th>2220</th>\n",
              "      <td>tech</td>\n",
              "      <td>BT is introducing two initiatives to help bea...</td>\n",
              "    </tr>\n",
              "    <tr>\n",
              "      <th>2221</th>\n",
              "      <td>tech</td>\n",
              "      <td>Computer users across the world continue to i...</td>\n",
              "    </tr>\n",
              "    <tr>\n",
              "      <th>2222</th>\n",
              "      <td>tech</td>\n",
              "      <td>A new European directive could put software w...</td>\n",
              "    </tr>\n",
              "    <tr>\n",
              "      <th>2223</th>\n",
              "      <td>tech</td>\n",
              "      <td>The man making sure US computer networks are ...</td>\n",
              "    </tr>\n",
              "    <tr>\n",
              "      <th>2224</th>\n",
              "      <td>tech</td>\n",
              "      <td>Online role playing games are time-consuming,...</td>\n",
              "    </tr>\n",
              "  </tbody>\n",
              "</table>\n",
              "<p>2225 rows × 2 columns</p>\n",
              "</div>\n",
              "      <button class=\"colab-df-convert\" onclick=\"convertToInteractive('df-8b32a338-9a89-4fd5-963b-c0a4d4bd7a93')\"\n",
              "              title=\"Convert this dataframe to an interactive table.\"\n",
              "              style=\"display:none;\">\n",
              "        \n",
              "  <svg xmlns=\"http://www.w3.org/2000/svg\" height=\"24px\"viewBox=\"0 0 24 24\"\n",
              "       width=\"24px\">\n",
              "    <path d=\"M0 0h24v24H0V0z\" fill=\"none\"/>\n",
              "    <path d=\"M18.56 5.44l.94 2.06.94-2.06 2.06-.94-2.06-.94-.94-2.06-.94 2.06-2.06.94zm-11 1L8.5 8.5l.94-2.06 2.06-.94-2.06-.94L8.5 2.5l-.94 2.06-2.06.94zm10 10l.94 2.06.94-2.06 2.06-.94-2.06-.94-.94-2.06-.94 2.06-2.06.94z\"/><path d=\"M17.41 7.96l-1.37-1.37c-.4-.4-.92-.59-1.43-.59-.52 0-1.04.2-1.43.59L10.3 9.45l-7.72 7.72c-.78.78-.78 2.05 0 2.83L4 21.41c.39.39.9.59 1.41.59.51 0 1.02-.2 1.41-.59l7.78-7.78 2.81-2.81c.8-.78.8-2.07 0-2.86zM5.41 20L4 18.59l7.72-7.72 1.47 1.35L5.41 20z\"/>\n",
              "  </svg>\n",
              "      </button>\n",
              "      \n",
              "  <style>\n",
              "    .colab-df-container {\n",
              "      display:flex;\n",
              "      flex-wrap:wrap;\n",
              "      gap: 12px;\n",
              "    }\n",
              "\n",
              "    .colab-df-convert {\n",
              "      background-color: #E8F0FE;\n",
              "      border: none;\n",
              "      border-radius: 50%;\n",
              "      cursor: pointer;\n",
              "      display: none;\n",
              "      fill: #1967D2;\n",
              "      height: 32px;\n",
              "      padding: 0 0 0 0;\n",
              "      width: 32px;\n",
              "    }\n",
              "\n",
              "    .colab-df-convert:hover {\n",
              "      background-color: #E2EBFA;\n",
              "      box-shadow: 0px 1px 2px rgba(60, 64, 67, 0.3), 0px 1px 3px 1px rgba(60, 64, 67, 0.15);\n",
              "      fill: #174EA6;\n",
              "    }\n",
              "\n",
              "    [theme=dark] .colab-df-convert {\n",
              "      background-color: #3B4455;\n",
              "      fill: #D2E3FC;\n",
              "    }\n",
              "\n",
              "    [theme=dark] .colab-df-convert:hover {\n",
              "      background-color: #434B5C;\n",
              "      box-shadow: 0px 1px 3px 1px rgba(0, 0, 0, 0.15);\n",
              "      filter: drop-shadow(0px 1px 2px rgba(0, 0, 0, 0.3));\n",
              "      fill: #FFFFFF;\n",
              "    }\n",
              "  </style>\n",
              "\n",
              "      <script>\n",
              "        const buttonEl =\n",
              "          document.querySelector('#df-8b32a338-9a89-4fd5-963b-c0a4d4bd7a93 button.colab-df-convert');\n",
              "        buttonEl.style.display =\n",
              "          google.colab.kernel.accessAllowed ? 'block' : 'none';\n",
              "\n",
              "        async function convertToInteractive(key) {\n",
              "          const element = document.querySelector('#df-8b32a338-9a89-4fd5-963b-c0a4d4bd7a93');\n",
              "          const dataTable =\n",
              "            await google.colab.kernel.invokeFunction('convertToInteractive',\n",
              "                                                     [key], {});\n",
              "          if (!dataTable) return;\n",
              "\n",
              "          const docLinkHtml = 'Like what you see? Visit the ' +\n",
              "            '<a target=\"_blank\" href=https://colab.research.google.com/notebooks/data_table.ipynb>data table notebook</a>'\n",
              "            + ' to learn more about interactive tables.';\n",
              "          element.innerHTML = '';\n",
              "          dataTable['output_type'] = 'display_data';\n",
              "          await google.colab.output.renderOutput(dataTable, element);\n",
              "          const docLink = document.createElement('div');\n",
              "          docLink.innerHTML = docLinkHtml;\n",
              "          element.appendChild(docLink);\n",
              "        }\n",
              "      </script>\n",
              "    </div>\n",
              "  </div>\n",
              "  "
            ],
            "text/plain": [
              "      category                                            content\n",
              "0     business   Quarterly profits at US media giant TimeWarne...\n",
              "1     business   The dollar has hit its highest level against ...\n",
              "2     business   The owners of embattled Russian oil giant Yuk...\n",
              "3     business   British Airways has blamed high fuel prices f...\n",
              "4     business   Shares in UK drinks and food firm Allied Dome...\n",
              "...        ...                                                ...\n",
              "2220      tech   BT is introducing two initiatives to help bea...\n",
              "2221      tech   Computer users across the world continue to i...\n",
              "2222      tech   A new European directive could put software w...\n",
              "2223      tech   The man making sure US computer networks are ...\n",
              "2224      tech   Online role playing games are time-consuming,...\n",
              "\n",
              "[2225 rows x 2 columns]"
            ]
          },
          "metadata": {},
          "execution_count": 16
        }
      ]
    },
    {
      "cell_type": "code",
      "source": [
        "# Use one hot encoding because label is categorical\n",
        "label = pd.get_dummies(df.category)\n",
        "new_df = pd.concat([df, label], axis=1)\n",
        "new_df = new_df.drop(columns='category')\n",
        "new_df"
      ],
      "metadata": {
        "colab": {
          "base_uri": "https://localhost:8080/",
          "height": 424
        },
        "id": "6tc47Tm_nBuk",
        "outputId": "2a34425b-6f40-4909-d81f-0325621165b5"
      },
      "execution_count": 17,
      "outputs": [
        {
          "output_type": "execute_result",
          "data": {
            "text/html": [
              "\n",
              "  <div id=\"df-1e8c4279-b9e3-4848-b2ec-f96faedba93a\">\n",
              "    <div class=\"colab-df-container\">\n",
              "      <div>\n",
              "<style scoped>\n",
              "    .dataframe tbody tr th:only-of-type {\n",
              "        vertical-align: middle;\n",
              "    }\n",
              "\n",
              "    .dataframe tbody tr th {\n",
              "        vertical-align: top;\n",
              "    }\n",
              "\n",
              "    .dataframe thead th {\n",
              "        text-align: right;\n",
              "    }\n",
              "</style>\n",
              "<table border=\"1\" class=\"dataframe\">\n",
              "  <thead>\n",
              "    <tr style=\"text-align: right;\">\n",
              "      <th></th>\n",
              "      <th>content</th>\n",
              "      <th>business</th>\n",
              "      <th>entertainment</th>\n",
              "      <th>politics</th>\n",
              "      <th>sport</th>\n",
              "      <th>tech</th>\n",
              "    </tr>\n",
              "  </thead>\n",
              "  <tbody>\n",
              "    <tr>\n",
              "      <th>0</th>\n",
              "      <td>Quarterly profits at US media giant TimeWarne...</td>\n",
              "      <td>1</td>\n",
              "      <td>0</td>\n",
              "      <td>0</td>\n",
              "      <td>0</td>\n",
              "      <td>0</td>\n",
              "    </tr>\n",
              "    <tr>\n",
              "      <th>1</th>\n",
              "      <td>The dollar has hit its highest level against ...</td>\n",
              "      <td>1</td>\n",
              "      <td>0</td>\n",
              "      <td>0</td>\n",
              "      <td>0</td>\n",
              "      <td>0</td>\n",
              "    </tr>\n",
              "    <tr>\n",
              "      <th>2</th>\n",
              "      <td>The owners of embattled Russian oil giant Yuk...</td>\n",
              "      <td>1</td>\n",
              "      <td>0</td>\n",
              "      <td>0</td>\n",
              "      <td>0</td>\n",
              "      <td>0</td>\n",
              "    </tr>\n",
              "    <tr>\n",
              "      <th>3</th>\n",
              "      <td>British Airways has blamed high fuel prices f...</td>\n",
              "      <td>1</td>\n",
              "      <td>0</td>\n",
              "      <td>0</td>\n",
              "      <td>0</td>\n",
              "      <td>0</td>\n",
              "    </tr>\n",
              "    <tr>\n",
              "      <th>4</th>\n",
              "      <td>Shares in UK drinks and food firm Allied Dome...</td>\n",
              "      <td>1</td>\n",
              "      <td>0</td>\n",
              "      <td>0</td>\n",
              "      <td>0</td>\n",
              "      <td>0</td>\n",
              "    </tr>\n",
              "    <tr>\n",
              "      <th>...</th>\n",
              "      <td>...</td>\n",
              "      <td>...</td>\n",
              "      <td>...</td>\n",
              "      <td>...</td>\n",
              "      <td>...</td>\n",
              "      <td>...</td>\n",
              "    </tr>\n",
              "    <tr>\n",
              "      <th>2220</th>\n",
              "      <td>BT is introducing two initiatives to help bea...</td>\n",
              "      <td>0</td>\n",
              "      <td>0</td>\n",
              "      <td>0</td>\n",
              "      <td>0</td>\n",
              "      <td>1</td>\n",
              "    </tr>\n",
              "    <tr>\n",
              "      <th>2221</th>\n",
              "      <td>Computer users across the world continue to i...</td>\n",
              "      <td>0</td>\n",
              "      <td>0</td>\n",
              "      <td>0</td>\n",
              "      <td>0</td>\n",
              "      <td>1</td>\n",
              "    </tr>\n",
              "    <tr>\n",
              "      <th>2222</th>\n",
              "      <td>A new European directive could put software w...</td>\n",
              "      <td>0</td>\n",
              "      <td>0</td>\n",
              "      <td>0</td>\n",
              "      <td>0</td>\n",
              "      <td>1</td>\n",
              "    </tr>\n",
              "    <tr>\n",
              "      <th>2223</th>\n",
              "      <td>The man making sure US computer networks are ...</td>\n",
              "      <td>0</td>\n",
              "      <td>0</td>\n",
              "      <td>0</td>\n",
              "      <td>0</td>\n",
              "      <td>1</td>\n",
              "    </tr>\n",
              "    <tr>\n",
              "      <th>2224</th>\n",
              "      <td>Online role playing games are time-consuming,...</td>\n",
              "      <td>0</td>\n",
              "      <td>0</td>\n",
              "      <td>0</td>\n",
              "      <td>0</td>\n",
              "      <td>1</td>\n",
              "    </tr>\n",
              "  </tbody>\n",
              "</table>\n",
              "<p>2225 rows × 6 columns</p>\n",
              "</div>\n",
              "      <button class=\"colab-df-convert\" onclick=\"convertToInteractive('df-1e8c4279-b9e3-4848-b2ec-f96faedba93a')\"\n",
              "              title=\"Convert this dataframe to an interactive table.\"\n",
              "              style=\"display:none;\">\n",
              "        \n",
              "  <svg xmlns=\"http://www.w3.org/2000/svg\" height=\"24px\"viewBox=\"0 0 24 24\"\n",
              "       width=\"24px\">\n",
              "    <path d=\"M0 0h24v24H0V0z\" fill=\"none\"/>\n",
              "    <path d=\"M18.56 5.44l.94 2.06.94-2.06 2.06-.94-2.06-.94-.94-2.06-.94 2.06-2.06.94zm-11 1L8.5 8.5l.94-2.06 2.06-.94-2.06-.94L8.5 2.5l-.94 2.06-2.06.94zm10 10l.94 2.06.94-2.06 2.06-.94-2.06-.94-.94-2.06-.94 2.06-2.06.94z\"/><path d=\"M17.41 7.96l-1.37-1.37c-.4-.4-.92-.59-1.43-.59-.52 0-1.04.2-1.43.59L10.3 9.45l-7.72 7.72c-.78.78-.78 2.05 0 2.83L4 21.41c.39.39.9.59 1.41.59.51 0 1.02-.2 1.41-.59l7.78-7.78 2.81-2.81c.8-.78.8-2.07 0-2.86zM5.41 20L4 18.59l7.72-7.72 1.47 1.35L5.41 20z\"/>\n",
              "  </svg>\n",
              "      </button>\n",
              "      \n",
              "  <style>\n",
              "    .colab-df-container {\n",
              "      display:flex;\n",
              "      flex-wrap:wrap;\n",
              "      gap: 12px;\n",
              "    }\n",
              "\n",
              "    .colab-df-convert {\n",
              "      background-color: #E8F0FE;\n",
              "      border: none;\n",
              "      border-radius: 50%;\n",
              "      cursor: pointer;\n",
              "      display: none;\n",
              "      fill: #1967D2;\n",
              "      height: 32px;\n",
              "      padding: 0 0 0 0;\n",
              "      width: 32px;\n",
              "    }\n",
              "\n",
              "    .colab-df-convert:hover {\n",
              "      background-color: #E2EBFA;\n",
              "      box-shadow: 0px 1px 2px rgba(60, 64, 67, 0.3), 0px 1px 3px 1px rgba(60, 64, 67, 0.15);\n",
              "      fill: #174EA6;\n",
              "    }\n",
              "\n",
              "    [theme=dark] .colab-df-convert {\n",
              "      background-color: #3B4455;\n",
              "      fill: #D2E3FC;\n",
              "    }\n",
              "\n",
              "    [theme=dark] .colab-df-convert:hover {\n",
              "      background-color: #434B5C;\n",
              "      box-shadow: 0px 1px 3px 1px rgba(0, 0, 0, 0.15);\n",
              "      filter: drop-shadow(0px 1px 2px rgba(0, 0, 0, 0.3));\n",
              "      fill: #FFFFFF;\n",
              "    }\n",
              "  </style>\n",
              "\n",
              "      <script>\n",
              "        const buttonEl =\n",
              "          document.querySelector('#df-1e8c4279-b9e3-4848-b2ec-f96faedba93a button.colab-df-convert');\n",
              "        buttonEl.style.display =\n",
              "          google.colab.kernel.accessAllowed ? 'block' : 'none';\n",
              "\n",
              "        async function convertToInteractive(key) {\n",
              "          const element = document.querySelector('#df-1e8c4279-b9e3-4848-b2ec-f96faedba93a');\n",
              "          const dataTable =\n",
              "            await google.colab.kernel.invokeFunction('convertToInteractive',\n",
              "                                                     [key], {});\n",
              "          if (!dataTable) return;\n",
              "\n",
              "          const docLinkHtml = 'Like what you see? Visit the ' +\n",
              "            '<a target=\"_blank\" href=https://colab.research.google.com/notebooks/data_table.ipynb>data table notebook</a>'\n",
              "            + ' to learn more about interactive tables.';\n",
              "          element.innerHTML = '';\n",
              "          dataTable['output_type'] = 'display_data';\n",
              "          await google.colab.output.renderOutput(dataTable, element);\n",
              "          const docLink = document.createElement('div');\n",
              "          docLink.innerHTML = docLinkHtml;\n",
              "          element.appendChild(docLink);\n",
              "        }\n",
              "      </script>\n",
              "    </div>\n",
              "  </div>\n",
              "  "
            ],
            "text/plain": [
              "                                                content  business  ...  sport  tech\n",
              "0      Quarterly profits at US media giant TimeWarne...         1  ...      0     0\n",
              "1      The dollar has hit its highest level against ...         1  ...      0     0\n",
              "2      The owners of embattled Russian oil giant Yuk...         1  ...      0     0\n",
              "3      British Airways has blamed high fuel prices f...         1  ...      0     0\n",
              "4      Shares in UK drinks and food firm Allied Dome...         1  ...      0     0\n",
              "...                                                 ...       ...  ...    ...   ...\n",
              "2220   BT is introducing two initiatives to help bea...         0  ...      0     1\n",
              "2221   Computer users across the world continue to i...         0  ...      0     1\n",
              "2222   A new European directive could put software w...         0  ...      0     1\n",
              "2223   The man making sure US computer networks are ...         0  ...      0     1\n",
              "2224   Online role playing games are time-consuming,...         0  ...      0     1\n",
              "\n",
              "[2225 rows x 6 columns]"
            ]
          },
          "metadata": {},
          "execution_count": 17
        }
      ]
    },
    {
      "cell_type": "markdown",
      "source": [
        "# Create function to clean text"
      ],
      "metadata": {
        "id": "pJUlxmYRzuUU"
      }
    },
    {
      "cell_type": "code",
      "source": [
        "import re\n",
        "import nltk\n",
        "from nltk.corpus import stopwords\n",
        "from nltk.stem import WordNetLemmatizer\n",
        "nltk.download('stopwords')\n",
        "nltk.download('wordnet')"
      ],
      "metadata": {
        "colab": {
          "base_uri": "https://localhost:8080/"
        },
        "id": "1-1Pg8Se2wMS",
        "outputId": "4a7c0569-c504-45f5-9d1d-74927fa74f70"
      },
      "execution_count": 18,
      "outputs": [
        {
          "output_type": "stream",
          "name": "stdout",
          "text": [
            "[nltk_data] Downloading package stopwords to /root/nltk_data...\n",
            "[nltk_data]   Unzipping corpora/stopwords.zip.\n",
            "[nltk_data] Downloading package wordnet to /root/nltk_data...\n",
            "[nltk_data]   Unzipping corpora/wordnet.zip.\n"
          ]
        },
        {
          "output_type": "execute_result",
          "data": {
            "text/plain": [
              "True"
            ]
          },
          "metadata": {},
          "execution_count": 18
        }
      ]
    },
    {
      "cell_type": "code",
      "source": [
        "# Data Cleaning\n",
        "def clean_text(text):\n",
        "    text = re.sub(\"[^a-zA-Z]\",\" \",text)\n",
        "    text = ' '.join(text.split())\n",
        "    text = text.lower()\n",
        "    return text\n",
        "new_df['content'] = new_df['content'].apply(clean_text)"
      ],
      "metadata": {
        "id": "3mve8f_fzx1k"
      },
      "execution_count": 19,
      "outputs": []
    },
    {
      "cell_type": "code",
      "source": [
        "# Stopwords removal\n",
        "stop_words = set(stopwords.words('english'))\n",
        "# function to remove stopwords\n",
        "def remove_stopwords(text):\n",
        "    no_stopword_text = [w for w in text.split() if not w in stop_words]\n",
        "    return ' '.join(no_stopword_text)\n",
        "new_df['content'] = new_df['content'].apply(remove_stopwords)"
      ],
      "metadata": {
        "id": "oPA2ZF5d3LQk"
      },
      "execution_count": 20,
      "outputs": []
    },
    {
      "cell_type": "code",
      "source": [
        "# Word lemmitization\n",
        "lemmatizer = WordNetLemmatizer()\n",
        "def lemmatization(text):\n",
        "    lem = [lemmatizer.lemmatize(w) for w in text.split()]\n",
        "    return ' '.join(lem)\n",
        "new_df['content'] = new_df['content'].apply(lemmatization)"
      ],
      "metadata": {
        "id": "J9dD9MZd4Nbf"
      },
      "execution_count": 21,
      "outputs": []
    },
    {
      "cell_type": "markdown",
      "source": [
        "# Prepraring to train the datasets"
      ],
      "metadata": {
        "id": "a-MtmxKxo8Dl"
      }
    },
    {
      "cell_type": "code",
      "source": [
        "# Get value of attribute and label from the df\n",
        "content = new_df['content'].values\n",
        "label = new_df.values[:, 1:].astype(int)"
      ],
      "metadata": {
        "id": "JGrEniPTnylr"
      },
      "execution_count": 22,
      "outputs": []
    },
    {
      "cell_type": "code",
      "source": [
        "# Split data train and test\n",
        "from sklearn.model_selection import train_test_split\n",
        "X_train, X_test, y_train, y_test = train_test_split(content, label, test_size=0.2)"
      ],
      "metadata": {
        "id": "Iiweu6e2pPzl"
      },
      "execution_count": 23,
      "outputs": []
    },
    {
      "cell_type": "code",
      "source": [
        "# Do tokenizing, sequencing and also padding\n",
        "from tensorflow.keras.preprocessing.text import Tokenizer\n",
        "from tensorflow.keras.preprocessing.sequence import pad_sequences\n",
        "\n",
        "tokenizer = Tokenizer(num_words=20000, oov_token='x')\n",
        "tokenizer.fit_on_texts(X_train)\n",
        "\n",
        "train_sequence = tokenizer.texts_to_sequences(X_train)\n",
        "test_sequence = tokenizer.texts_to_sequences(X_test)\n",
        "\n",
        "train_padded = pad_sequences(train_sequence)\n",
        "test_padded = pad_sequences(test_sequence)"
      ],
      "metadata": {
        "id": "EEvGFeZ3paNQ"
      },
      "execution_count": 55,
      "outputs": []
    },
    {
      "cell_type": "markdown",
      "source": [
        "# Initiate LSTM model and begin training"
      ],
      "metadata": {
        "id": "Zv47z3Agqs9v"
      }
    },
    {
      "cell_type": "code",
      "source": [
        "# Iniate LSTM model \n",
        "import tensorflow as tf\n",
        "from keras import optimizers\n",
        "\n",
        "v = len(tokenizer.word_index)\n",
        "\n",
        "model = tf.keras.Sequential([\n",
        "                             tf.keras.layers.Embedding(input_dim=v+1, output_dim=16),\n",
        "                             tf.keras.layers.AveragePooling1D(),\n",
        "                             tf.keras.layers.LSTM(64),\n",
        "                             tf.keras.layers.Dense(128, activation='relu'),\n",
        "                             tf.keras.layers.Dropout(0.2),\n",
        "                             tf.keras.layers.Dense(5, activation='softmax')                             \n",
        "])\n",
        "adam = tf.optimizers.Adam(learning_rate=0.001, decay=0.0001)\n",
        "model.compile(loss='categorical_crossentropy', optimizer=adam, metrics=['accuracy'])\n",
        "model.summary()"
      ],
      "metadata": {
        "colab": {
          "base_uri": "https://localhost:8080/"
        },
        "id": "eairN5yqpi4w",
        "outputId": "91f6376d-3bba-4222-a60f-0024eedd82dd"
      },
      "execution_count": 56,
      "outputs": [
        {
          "output_type": "stream",
          "name": "stdout",
          "text": [
            "Model: \"sequential_7\"\n",
            "_________________________________________________________________\n",
            " Layer (type)                Output Shape              Param #   \n",
            "=================================================================\n",
            " embedding_7 (Embedding)     (None, None, 16)          359920    \n",
            "                                                                 \n",
            " average_pooling1d_7 (Averag  (None, None, 16)         0         \n",
            " ePooling1D)                                                     \n",
            "                                                                 \n",
            " lstm_7 (LSTM)               (None, 64)                20736     \n",
            "                                                                 \n",
            " dense_19 (Dense)            (None, 128)               8320      \n",
            "                                                                 \n",
            " dropout_12 (Dropout)        (None, 128)               0         \n",
            "                                                                 \n",
            " dense_20 (Dense)            (None, 5)                 645       \n",
            "                                                                 \n",
            "=================================================================\n",
            "Total params: 389,621\n",
            "Trainable params: 389,621\n",
            "Non-trainable params: 0\n",
            "_________________________________________________________________\n"
          ]
        }
      ]
    },
    {
      "cell_type": "code",
      "source": [
        "# Initiate callback functions\n",
        "class myCallback(tf.keras.callbacks.Callback):\n",
        "  def on_epoch_end(self, epoch, logs={}):\n",
        "    if(logs.get('accuracy') > 0.95 and logs.get('val_accuracy') > 0.90):\n",
        "      print(\"\\nAccuracy already reached >90%!\")\n",
        "      self.model.stop_training = True\n",
        "callbacks = myCallback()"
      ],
      "metadata": {
        "id": "cyosO-B4ppPk"
      },
      "execution_count": 57,
      "outputs": []
    },
    {
      "cell_type": "code",
      "source": [
        "# Begin training\n",
        "num_epochs = 30\n",
        "hist = model.fit(train_padded, y_train, epochs=num_epochs,\n",
        "                    validation_data=(test_padded, y_test), verbose=2, callbacks=callbacks, batch_size=128, validation_split=0.2)"
      ],
      "metadata": {
        "colab": {
          "base_uri": "https://localhost:8080/"
        },
        "id": "tW3tk4CFpvvo",
        "outputId": "54bc0bf0-7feb-4d0e-ee6e-1097434a8a29"
      },
      "execution_count": 58,
      "outputs": [
        {
          "output_type": "stream",
          "name": "stdout",
          "text": [
            "Epoch 1/30\n",
            "12/12 - 11s - loss: 1.6081 - accuracy: 0.2198 - val_loss: 1.6028 - val_accuracy: 0.2275 - 11s/epoch - 945ms/step\n",
            "Epoch 2/30\n",
            "12/12 - 9s - loss: 1.5983 - accuracy: 0.2760 - val_loss: 1.5824 - val_accuracy: 0.2444 - 9s/epoch - 768ms/step\n",
            "Epoch 3/30\n",
            "12/12 - 9s - loss: 1.5164 - accuracy: 0.3771 - val_loss: 1.3519 - val_accuracy: 0.4860 - 9s/epoch - 770ms/step\n",
            "Epoch 4/30\n",
            "12/12 - 9s - loss: 1.5049 - accuracy: 0.4101 - val_loss: 1.4311 - val_accuracy: 0.4354 - 9s/epoch - 768ms/step\n",
            "Epoch 5/30\n",
            "12/12 - 9s - loss: 1.3737 - accuracy: 0.4431 - val_loss: 1.2740 - val_accuracy: 0.5000 - 9s/epoch - 778ms/step\n",
            "Epoch 6/30\n",
            "12/12 - 9s - loss: 1.1809 - accuracy: 0.4909 - val_loss: 1.1159 - val_accuracy: 0.4438 - 9s/epoch - 781ms/step\n",
            "Epoch 7/30\n",
            "12/12 - 9s - loss: 1.0557 - accuracy: 0.5471 - val_loss: 1.0333 - val_accuracy: 0.5590 - 9s/epoch - 762ms/step\n",
            "Epoch 8/30\n",
            "12/12 - 9s - loss: 0.9202 - accuracy: 0.5864 - val_loss: 0.9335 - val_accuracy: 0.6208 - 9s/epoch - 770ms/step\n",
            "Epoch 9/30\n",
            "12/12 - 9s - loss: 0.8061 - accuracy: 0.6643 - val_loss: 0.7931 - val_accuracy: 0.7107 - 9s/epoch - 777ms/step\n",
            "Epoch 10/30\n",
            "12/12 - 9s - loss: 0.6170 - accuracy: 0.7247 - val_loss: 0.8476 - val_accuracy: 0.6264 - 9s/epoch - 767ms/step\n",
            "Epoch 11/30\n",
            "12/12 - 9s - loss: 0.4862 - accuracy: 0.7521 - val_loss: 0.7159 - val_accuracy: 0.7163 - 9s/epoch - 773ms/step\n",
            "Epoch 12/30\n",
            "12/12 - 9s - loss: 0.3727 - accuracy: 0.8497 - val_loss: 0.6033 - val_accuracy: 0.8090 - 9s/epoch - 778ms/step\n",
            "Epoch 13/30\n",
            "12/12 - 9s - loss: 0.3560 - accuracy: 0.8743 - val_loss: 0.9224 - val_accuracy: 0.6545 - 9s/epoch - 760ms/step\n",
            "Epoch 14/30\n",
            "12/12 - 9s - loss: 0.4104 - accuracy: 0.8715 - val_loss: 0.6505 - val_accuracy: 0.8006 - 9s/epoch - 771ms/step\n",
            "Epoch 15/30\n",
            "12/12 - 9s - loss: 0.2546 - accuracy: 0.9642 - val_loss: 0.5638 - val_accuracy: 0.8090 - 9s/epoch - 773ms/step\n",
            "Epoch 16/30\n",
            "12/12 - 9s - loss: 0.1449 - accuracy: 0.9817 - val_loss: 0.4594 - val_accuracy: 0.8567 - 9s/epoch - 764ms/step\n",
            "Epoch 17/30\n",
            "12/12 - 9s - loss: 0.1070 - accuracy: 0.9796 - val_loss: 0.3963 - val_accuracy: 0.8961 - 9s/epoch - 776ms/step\n",
            "Epoch 18/30\n",
            "12/12 - 9s - loss: 0.0585 - accuracy: 0.9923 - val_loss: 0.3734 - val_accuracy: 0.8848 - 9s/epoch - 773ms/step\n",
            "Epoch 19/30\n",
            "12/12 - 9s - loss: 0.0297 - accuracy: 0.9972 - val_loss: 0.3987 - val_accuracy: 0.8876 - 9s/epoch - 775ms/step\n",
            "Epoch 20/30\n",
            "12/12 - 9s - loss: 0.0216 - accuracy: 0.9972 - val_loss: 0.3915 - val_accuracy: 0.8820 - 9s/epoch - 775ms/step\n",
            "Epoch 21/30\n",
            "12/12 - 9s - loss: 0.0164 - accuracy: 0.9972 - val_loss: 0.4585 - val_accuracy: 0.8680 - 9s/epoch - 776ms/step\n",
            "Epoch 22/30\n",
            "12/12 - 9s - loss: 0.0158 - accuracy: 0.9979 - val_loss: 0.4522 - val_accuracy: 0.8736 - 9s/epoch - 769ms/step\n",
            "Epoch 23/30\n",
            "12/12 - 9s - loss: 0.0150 - accuracy: 0.9972 - val_loss: 0.4424 - val_accuracy: 0.8652 - 9s/epoch - 775ms/step\n",
            "Epoch 24/30\n",
            "12/12 - 9s - loss: 0.0132 - accuracy: 0.9979 - val_loss: 0.4001 - val_accuracy: 0.8848 - 9s/epoch - 779ms/step\n",
            "Epoch 25/30\n",
            "12/12 - 11s - loss: 0.0323 - accuracy: 0.9909 - val_loss: 0.4529 - val_accuracy: 0.8792 - 11s/epoch - 882ms/step\n",
            "Epoch 26/30\n",
            "12/12 - 9s - loss: 0.0326 - accuracy: 0.9944 - val_loss: 0.3969 - val_accuracy: 0.8736 - 9s/epoch - 775ms/step\n",
            "Epoch 27/30\n",
            "\n",
            "Accuracy already reached >90%!\n",
            "12/12 - 9s - loss: 0.0221 - accuracy: 0.9986 - val_loss: 0.3674 - val_accuracy: 0.9101 - 9s/epoch - 769ms/step\n"
          ]
        }
      ]
    },
    {
      "cell_type": "markdown",
      "source": [
        "# Plot accuracy and loss"
      ],
      "metadata": {
        "id": "F46rOVZ5vEPb"
      }
    },
    {
      "cell_type": "code",
      "source": [
        "import matplotlib.pyplot as plt\n",
        "# Create function to plot training graph:\n",
        "def plot_graph(history, history2, title, xlabel, ylabel):\n",
        "  plt.plot(hist.history[history])\n",
        "  plt.plot(hist.history[history2])\n",
        "  plt.title(title)\n",
        "  plt.ylabel(xlabel)\n",
        "  plt.xlabel(ylabel)\n",
        "  plt.legend(['train', 'test'], loc='upper left')\n",
        "  plt.show()\n",
        "\n",
        "# Plot accuracy\n",
        "plot_graph('accuracy', 'val_accuracy', 'Model accuracy', 'accuracy', 'epoch')\n"
      ],
      "metadata": {
        "colab": {
          "base_uri": "https://localhost:8080/",
          "height": 294
        },
        "id": "Cw-mkdPivHb6",
        "outputId": "10747d3a-ead7-4206-81d8-520d7961475b"
      },
      "execution_count": 59,
      "outputs": [
        {
          "output_type": "display_data",
          "data": {
            "image/png": "[encoded data removed]",
            "text/plain": [
              "<Figure size 432x288 with 1 Axes>"
            ]
          },
          "metadata": {
            "needs_background": "light"
          }
        }
      ]
    },
    {
      "cell_type": "code",
      "source": [
        "# Plot loss\n",
        "plt.plot(hist.history['loss'])\n",
        "plt.plot(hist.history['val_loss'])\n",
        "plt.title('Akurasi Model')\n",
        "plt.ylabel('accuracy')\n",
        "plt.xlabel('epoch')\n",
        "plt.legend(['train', 'test'], loc='upper left')\n",
        "plt.show()"
      ],
      "metadata": {
        "colab": {
          "base_uri": "https://localhost:8080/",
          "height": 294
        },
        "id": "7ikoFu_YvJjC",
        "outputId": "6819a123-dce5-48eb-c4c0-74dc2e9365cd"
      },
      "execution_count": 60,
      "outputs": [
        {
          "output_type": "display_data",
          "data": {
            "image/png": "[encoded data removed]",
            "text/plain": [
              "<Figure size 432x288 with 1 Axes>"
            ]
          },
          "metadata": {
            "needs_background": "light"
          }
        }
      ]
    },
    {
      "cell_type": "markdown",
      "source": [
        "# Prediction Test"
      ],
      "metadata": {
        "id": "2dH50kEel-gm"
      }
    },
    {
      "cell_type": "code",
      "source": [
        "# Prepare text to feed to model\n",
        "sentence = [\"Cristiano Ronaldo just score a goal\"]\n",
        "sentence_seq = tokenizer.texts_to_sequences(sentence)\n",
        "sentence_pad = pad_sequences(sentence_seq)\n",
        "\n",
        "# Try prediction\n",
        "prediction = model.predict(sentence_pad)"
      ],
      "metadata": {
        "id": "XvZAzFO3l_9P"
      },
      "execution_count": 61,
      "outputs": []
    },
    {
      "cell_type": "code",
      "source": [
        "prediction"
      ],
      "metadata": {
        "colab": {
          "base_uri": "https://localhost:8080/"
        },
        "id": "4shcd0XJmbrP",
        "outputId": "e2175bb4-4849-4ad6-a525-6d3add0ceb80"
      },
      "execution_count": 62,
      "outputs": [
        {
          "output_type": "execute_result",
          "data": {
            "text/plain": [
              "array([[0.01064247, 0.38238242, 0.00899464, 0.587567  , 0.0104135 ]],\n",
              "      dtype=float32)"
            ]
          },
          "metadata": {},
          "execution_count": 62
        }
      ]
    },
    {
      "cell_type": "code",
      "source": [
        ""
      ],
      "metadata": {
        "id": "uWGrnI8ImieC"
      },
      "execution_count": null,
      "outputs": []
    }
  ]
}